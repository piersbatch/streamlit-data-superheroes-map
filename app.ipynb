{
 "cells": [
  {
   "cell_type": "code",
   "execution_count": null,
   "metadata": {},
   "outputs": [],
   "source": [
    "pip install snowflake_connector_python"
   ]
  },
  {
   "cell_type": "code",
   "execution_count": null,
   "metadata": {},
   "outputs": [],
   "source": [
    "pip install -r https://raw.githubusercontent.com/snowflakedb/snowflake-connector-python/v3.0.0/tested_requirements/requirements_38.reqs --force-reinstall"
   ]
  },
  {
   "cell_type": "code",
   "execution_count": null,
   "metadata": {},
   "outputs": [],
   "source": [
    "import streamlit as st\n",
    "import snowflake.connector as sf\n",
    "\n",
    "# Snowflake connection details\n",
    "connection_config = {\n",
    "    'user': 'YOUR_USERNAME',\n",
    "    'password': 'YOUR_PASSWORD',\n",
    "    'account': 'YOUR_ACCOUNT_URL',\n",
    "    'warehouse': 'YOUR_WAREHOUSE',\n",
    "}\n",
    "\n",
    "# Establish the Snowflake connection\n",
    "conn = None\n",
    "\n",
    "# Create Snowflake connection function\n",
    "def create_connection(username, password, account, warehouse):\n",
    "    connection_config['user'] = username\n",
    "    connection_config['password'] = password\n",
    "    connection_config['account'] = account\n",
    "    connection_config['warehouse'] = warehouse\n",
    "\n",
    "    try:\n",
    "        global conn\n",
    "        conn = sf.connect(**connection_config)\n",
    "        st.success(\"Snowflake connection established successfully!\")\n",
    "    except Exception as e:\n",
    "        st.error(f\"Error connecting to Snowflake: {str(e)}\")\n",
    "\n",
    "# Get list of databases\n",
    "def get_databases():\n",
    "    try:\n",
    "        cursor = conn.cursor()\n",
    "        cursor.execute(\"SHOW DATABASES\")\n",
    "        databases = [row[0] for row in cursor]\n",
    "        return databases\n",
    "    except Exception as e:\n",
    "        st.error(f\"Error fetching databases: {str(e)}\")\n",
    "        return []\n",
    "\n",
    "# Get list of schemas in a database\n",
    "def get_schemas(database):\n",
    "    try:\n",
    "        cursor = conn.cursor()\n",
    "        cursor.execute(f\"SHOW SCHEMAS IN DATABASE {database}\")\n",
    "        schemas = [row[0] for row in cursor]\n",
    "        return schemas\n",
    "    except Exception as e:\n",
    "        st.error(f\"Error fetching schemas: {str(e)}\")\n",
    "        return []\n",
    "\n",
    "# Get list of tables/views in a schema\n",
    "def get_tables(schema):\n",
    "    try:\n",
    "        cursor = conn.cursor()\n",
    "        cursor.execute(f\"SHOW TABLES IN SCHEMA {schema}\")\n",
    "        tables = [row[0] for row in cursor]\n",
    "        return tables\n",
    "    except Exception as e:\n",
    "        st.error(f\"Error fetching tables/views: {str(e)}\")\n",
    "        return []\n",
    "\n",
    "# Main function\n",
    "def main():\n",
    "    st.title(\"Snowflake Connection\")\n",
    "\n",
    "    # Snowflake connection form\n",
    "    username = st.text_input(\"Username\")\n",
    "    password = st.text_input(\"Password\", type=\"password\")\n",
    "    account = st.text_input(\"Account URL (ab12345.west-europe.azure)\")\n",
    "    warehouse = st.text_input(\"Warehouse\")\n",
    "\n",
    "    if st.button(\"Connect\"):\n",
    "        create_connection(username, password, account, warehouse)\n",
    "\n",
    "    # Database, Schema, and Table/View selection form\n",
    "    if conn is not None:\n",
    "        databases = get_databases()\n",
    "        selected_database = st.selectbox(\"Select Database\", databases)\n",
    "\n",
    "        schemas = get_schemas(selected_database)\n",
    "        selected_schema = st.selectbox(\"Select Schema\", schemas)\n",
    "\n",
    "        tables = get_tables(selected_schema)\n",
    "        selected_table = st.selectbox(\"Select Table/View\", tables)\n",
    "\n",
    "        st.success(f\"Selected Database: {selected_database}\")\n",
    "        st.success(f\"Selected Schema: {selected_schema}\")\n",
    "        st.success(f\"Selected Table/View: {selected_table}\")\n",
    "\n",
    "if __name__ == '__main__':\n",
    "    main()"
   ]
  },
  {
   "cell_type": "code",
   "execution_count": null,
   "metadata": {},
   "outputs": [],
   "source": [
    "# SELECT DB, SCHEMA, TABLE/VIEW"
   ]
  },
  {
   "cell_type": "code",
   "execution_count": null,
   "metadata": {},
   "outputs": [],
   "source": [
    "# BUTTON TO LAUNCH PROMPT"
   ]
  },
  {
   "cell_type": "code",
   "execution_count": null,
   "metadata": {},
   "outputs": [],
   "source": [
    "# BLEACH THE CODE RETURNED?\n",
    "# USE THE CODE IN THE STREAMLIT CODE TO SHOW THE DASHBOARD"
   ]
  }
 ],
 "metadata": {
  "kernelspec": {
   "display_name": "Python 3",
   "language": "python",
   "name": "python3"
  },
  "language_info": {
   "codemirror_mode": {
    "name": "ipython",
    "version": 3
   },
   "file_extension": ".py",
   "mimetype": "text/x-python",
   "name": "python",
   "nbconvert_exporter": "python",
   "pygments_lexer": "ipython3",
   "version": "3.10.5"
  },
  "orig_nbformat": 4,
  "vscode": {
   "interpreter": {
    "hash": "26de051ba29f2982a8de78e945f0abaf191376122a1563185a90213a26c5da77"
   }
  }
 },
 "nbformat": 4,
 "nbformat_minor": 2
}
